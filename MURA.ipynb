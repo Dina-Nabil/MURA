{
  "nbformat": 4,
  "nbformat_minor": 0,
  "metadata": {
    "colab": {
      "name": "MURA.ipynb",
      "version": "0.3.2",
      "provenance": [],
      "collapsed_sections": [],
      "toc_visible": true,
      "include_colab_link": true
    },
    "kernelspec": {
      "name": "python3",
      "display_name": "Python 3"
    },
    "accelerator": "GPU"
  },
  "cells": [
    {
      "cell_type": "markdown",
      "metadata": {
        "id": "view-in-github",
        "colab_type": "text"
      },
      "source": [
        "<a href=\"https://colab.research.google.com/github/Dina-Nabil/MURA/blob/master/MURA.ipynb\" target=\"_parent\"><img src=\"https://colab.research.google.com/assets/colab-badge.svg\" alt=\"Open In Colab\"/></a>"
      ]
    },
    {
      "metadata": {
        "id": "uOJ4DkKQDeQq",
        "colab_type": "code",
        "colab": {}
      },
      "cell_type": "code",
      "source": [
        "from google.colab import drive\n",
        "drive.mount('/content/drive')"
      ],
      "execution_count": 0,
      "outputs": []
    },
    {
      "metadata": {
        "id": "BoDSC_Bq_F4W",
        "colab_type": "code",
        "colab": {}
      },
      "cell_type": "code",
      "source": [
        "!ls \"/content/drive/My Drive/MURA-v1.1\""
      ],
      "execution_count": 0,
      "outputs": []
    },
    {
      "metadata": {
        "id": "M0LdVDwIvuYc",
        "colab_type": "code",
        "colab": {}
      },
      "cell_type": "code",
      "source": [
        "from keras.applications import densenet, mobilenet, vgg16, inception_v3\n",
        "from keras.models import Model\n",
        "from keras.layers import Dense, Activation, concatenate\n",
        "from keras import optimizers,losses\n",
        "from keras.utils import np_utils\n",
        "from sklearn.utils import shuffle\n",
        "import numpy as np\n",
        "from PIL import Image ,ImageOps\n",
        "import matplotlib.pyplot as plt\n",
        "import cv2 as cv\n",
        "import os\n",
        "from tqdm import tqdm\n",
        "import pandas as pd\n",
        "import seaborn as sb\n",
        "from keras.preprocessing.image import ImageDataGenerator\n",
        "from sklearn.metrics import accuracy_score, confusion_matrix, classification_report\n",
        "from IPython.core.interactiveshell import InteractiveShell\n",
        "InteractiveShell.ast_node_interactivity = \"all\""
      ],
      "execution_count": 0,
      "outputs": []
    },
    {
      "metadata": {
        "id": "arFBG6_KHPMd",
        "colab_type": "text"
      },
      "cell_type": "markdown",
      "source": [
        "# **Visualization**"
      ]
    },
    {
      "metadata": {
        "id": "GvODNbLqHOgL",
        "colab_type": "code",
        "outputId": "ee72af41-4a33-46af-aff5-172adef3c318",
        "colab": {
          "base_uri": "https://localhost:8080/",
          "height": 85
        }
      },
      "cell_type": "code",
      "source": [
        "PATH=\"/content/drive/My Drive/MURA-v1.1/Edited_CSV\"\n",
        "os.listdir(PATH)"
      ],
      "execution_count": 0,
      "outputs": [
        {
          "output_type": "execute_result",
          "data": {
            "text/plain": [
              "['train_labeled_studies.csv',\n",
              " 'valid_image_paths.csv',\n",
              " 'valid_labeled_studies.csv',\n",
              " 'train_image_paths.csv']"
            ]
          },
          "metadata": {
            "tags": []
          },
          "execution_count": 12
        }
      ]
    },
    {
      "metadata": {
        "id": "r5thaBb1HhXg",
        "colab_type": "code",
        "colab": {}
      },
      "cell_type": "code",
      "source": [
        "train_imgs_path=pd.read_csv(PATH+'/train_image_paths.csv')\n",
        "train_labels=pd.read_csv(PATH+'/train_labeled_studies.csv')\n",
        "test_imgs_path=pd.read_csv(PATH+'/valid_image_paths.csv')\n",
        "test_labels=pd.read_csv(PATH+'/valid_labeled_studies.csv')"
      ],
      "execution_count": 0,
      "outputs": []
    },
    {
      "metadata": {
        "id": "iTsFKA2YHhTC",
        "colab_type": "code",
        "outputId": "454e1614-2415-4099-f5c1-337c7c0c2927",
        "colab": {
          "base_uri": "https://localhost:8080/",
          "height": 204
        }
      },
      "cell_type": "code",
      "source": [
        "train_imgs_path.head()"
      ],
      "execution_count": 0,
      "outputs": [
        {
          "output_type": "execute_result",
          "data": {
            "text/html": [
              "<div>\n",
              "<style scoped>\n",
              "    .dataframe tbody tr th:only-of-type {\n",
              "        vertical-align: middle;\n",
              "    }\n",
              "\n",
              "    .dataframe tbody tr th {\n",
              "        vertical-align: top;\n",
              "    }\n",
              "\n",
              "    .dataframe thead th {\n",
              "        text-align: right;\n",
              "    }\n",
              "</style>\n",
              "<table border=\"1\" class=\"dataframe\">\n",
              "  <thead>\n",
              "    <tr style=\"text-align: right;\">\n",
              "      <th></th>\n",
              "      <th>Path</th>\n",
              "    </tr>\n",
              "  </thead>\n",
              "  <tbody>\n",
              "    <tr>\n",
              "      <th>0</th>\n",
              "      <td>MURA-v1.1/train/XR_SHOULDER/patient00001/study...</td>\n",
              "    </tr>\n",
              "    <tr>\n",
              "      <th>1</th>\n",
              "      <td>MURA-v1.1/train/XR_SHOULDER/patient00001/study...</td>\n",
              "    </tr>\n",
              "    <tr>\n",
              "      <th>2</th>\n",
              "      <td>MURA-v1.1/train/XR_SHOULDER/patient00001/study...</td>\n",
              "    </tr>\n",
              "    <tr>\n",
              "      <th>3</th>\n",
              "      <td>MURA-v1.1/train/XR_SHOULDER/patient00002/study...</td>\n",
              "    </tr>\n",
              "    <tr>\n",
              "      <th>4</th>\n",
              "      <td>MURA-v1.1/train/XR_SHOULDER/patient00002/study...</td>\n",
              "    </tr>\n",
              "  </tbody>\n",
              "</table>\n",
              "</div>"
            ],
            "text/plain": [
              "                                                Path\n",
              "0  MURA-v1.1/train/XR_SHOULDER/patient00001/study...\n",
              "1  MURA-v1.1/train/XR_SHOULDER/patient00001/study...\n",
              "2  MURA-v1.1/train/XR_SHOULDER/patient00001/study...\n",
              "3  MURA-v1.1/train/XR_SHOULDER/patient00002/study...\n",
              "4  MURA-v1.1/train/XR_SHOULDER/patient00002/study..."
            ]
          },
          "metadata": {
            "tags": []
          },
          "execution_count": 14
        }
      ]
    },
    {
      "metadata": {
        "id": "egQoNb-7HhQN",
        "colab_type": "code",
        "outputId": "f25f99e4-762d-4a8a-c2c9-af496463dd79",
        "colab": {
          "base_uri": "https://localhost:8080/",
          "height": 34
        }
      },
      "cell_type": "code",
      "source": [
        "train_imgs_path.shape[0]"
      ],
      "execution_count": 0,
      "outputs": [
        {
          "output_type": "execute_result",
          "data": {
            "text/plain": [
              "36808"
            ]
          },
          "metadata": {
            "tags": []
          },
          "execution_count": 16
        }
      ]
    },
    {
      "metadata": {
        "id": "l_QHoTMyItb1",
        "colab_type": "code",
        "outputId": "9676a304-1b96-4215-e3be-62961136dd95",
        "colab": {
          "base_uri": "https://localhost:8080/",
          "height": 204
        }
      },
      "cell_type": "code",
      "source": [
        "train_labels.head()"
      ],
      "execution_count": 0,
      "outputs": [
        {
          "output_type": "execute_result",
          "data": {
            "text/html": [
              "<div>\n",
              "<style scoped>\n",
              "    .dataframe tbody tr th:only-of-type {\n",
              "        vertical-align: middle;\n",
              "    }\n",
              "\n",
              "    .dataframe tbody tr th {\n",
              "        vertical-align: top;\n",
              "    }\n",
              "\n",
              "    .dataframe thead th {\n",
              "        text-align: right;\n",
              "    }\n",
              "</style>\n",
              "<table border=\"1\" class=\"dataframe\">\n",
              "  <thead>\n",
              "    <tr style=\"text-align: right;\">\n",
              "      <th></th>\n",
              "      <th>Path</th>\n",
              "      <th>Label</th>\n",
              "    </tr>\n",
              "  </thead>\n",
              "  <tbody>\n",
              "    <tr>\n",
              "      <th>0</th>\n",
              "      <td>MURA-v1.1/train/XR_SHOULDER/patient00001/study...</td>\n",
              "      <td>1</td>\n",
              "    </tr>\n",
              "    <tr>\n",
              "      <th>1</th>\n",
              "      <td>MURA-v1.1/train/XR_SHOULDER/patient00002/study...</td>\n",
              "      <td>1</td>\n",
              "    </tr>\n",
              "    <tr>\n",
              "      <th>2</th>\n",
              "      <td>MURA-v1.1/train/XR_SHOULDER/patient00003/study...</td>\n",
              "      <td>1</td>\n",
              "    </tr>\n",
              "    <tr>\n",
              "      <th>3</th>\n",
              "      <td>MURA-v1.1/train/XR_SHOULDER/patient00004/study...</td>\n",
              "      <td>1</td>\n",
              "    </tr>\n",
              "    <tr>\n",
              "      <th>4</th>\n",
              "      <td>MURA-v1.1/train/XR_SHOULDER/patient00005/study...</td>\n",
              "      <td>1</td>\n",
              "    </tr>\n",
              "  </tbody>\n",
              "</table>\n",
              "</div>"
            ],
            "text/plain": [
              "                                                Path  Label\n",
              "0  MURA-v1.1/train/XR_SHOULDER/patient00001/study...      1\n",
              "1  MURA-v1.1/train/XR_SHOULDER/patient00002/study...      1\n",
              "2  MURA-v1.1/train/XR_SHOULDER/patient00003/study...      1\n",
              "3  MURA-v1.1/train/XR_SHOULDER/patient00004/study...      1\n",
              "4  MURA-v1.1/train/XR_SHOULDER/patient00005/study...      1"
            ]
          },
          "metadata": {
            "tags": []
          },
          "execution_count": 17
        }
      ]
    },
    {
      "metadata": {
        "id": "4xbf6BV4HhIe",
        "colab_type": "code",
        "outputId": "ed052e7c-500e-4c4c-b9ff-4216686230c0",
        "colab": {
          "base_uri": "https://localhost:8080/",
          "height": 68
        }
      },
      "cell_type": "code",
      "source": [
        "train_labels['Label'].value_counts()"
      ],
      "execution_count": 0,
      "outputs": [
        {
          "output_type": "execute_result",
          "data": {
            "text/plain": [
              "0    8280\n",
              "1    5177\n",
              "Name: Label, dtype: int64"
            ]
          },
          "metadata": {
            "tags": []
          },
          "execution_count": 19
        }
      ]
    },
    {
      "metadata": {
        "id": "ITocKkNRIMFD",
        "colab_type": "code",
        "outputId": "860a01d6-7ca2-404e-c3ea-bacc1cd19167",
        "colab": {
          "base_uri": "https://localhost:8080/",
          "height": 412
        }
      },
      "cell_type": "code",
      "source": [
        "import seaborn as sns\n",
        "sns.countplot(train_labels['Label'])"
      ],
      "execution_count": 0,
      "outputs": [
        {
          "output_type": "stream",
          "text": [
            "/usr/local/lib/python3.6/dist-packages/seaborn/categorical.py:1428: FutureWarning: remove_na is deprecated and is a private function. Do not use.\n",
            "  stat_data = remove_na(group_data)\n"
          ],
          "name": "stderr"
        },
        {
          "output_type": "execute_result",
          "data": {
            "text/plain": [
              "<matplotlib.axes._subplots.AxesSubplot at 0x7fe087d9ab70>"
            ]
          },
          "metadata": {
            "tags": []
          },
          "execution_count": 20
        },
        {
          "output_type": "display_data",
          "data": {
            "image/png": "[encoded data removed]",
            "text/plain": [
              "<matplotlib.figure.Figure at 0x7fe087d92fd0>"
            ]
          },
          "metadata": {
            "tags": []
          }
        }
      ]
    },
    {
      "metadata": {
        "id": "6H6tkDR4IJfb",
        "colab_type": "code",
        "colab": {}
      },
      "cell_type": "code",
      "source": [
        "train_labels['Studies']=train_labels['Path'].apply(lambda x: str(x.split('/')[2])[3:])"
      ],
      "execution_count": 0,
      "outputs": []
    },
    {
      "metadata": {
        "id": "d-dMwgLSIR5U",
        "colab_type": "code",
        "outputId": "77d7abfc-1550-45c0-9672-6481dcce3f82",
        "colab": {
          "base_uri": "https://localhost:8080/",
          "height": 513
        }
      },
      "cell_type": "code",
      "source": [
        "plt.figure(figsize=(10,7))\n",
        "sns.countplot(x='Studies',hue='Label',data=train_labels)"
      ],
      "execution_count": 0,
      "outputs": [
        {
          "output_type": "execute_result",
          "data": {
            "text/plain": [
              "<matplotlib.figure.Figure at 0x7fe0cfd30f60>"
            ]
          },
          "metadata": {
            "tags": []
          },
          "execution_count": 23
        },
        {
          "output_type": "stream",
          "text": [
            "/usr/local/lib/python3.6/dist-packages/seaborn/categorical.py:1468: FutureWarning: remove_na is deprecated and is a private function. Do not use.\n",
            "  stat_data = remove_na(group_data[hue_mask])\n"
          ],
          "name": "stderr"
        },
        {
          "output_type": "execute_result",
          "data": {
            "text/plain": [
              "<matplotlib.axes._subplots.AxesSubplot at 0x7fe087658278>"
            ]
          },
          "metadata": {
            "tags": []
          },
          "execution_count": 23
        },
        {
          "output_type": "display_data",
          "data": {
            "image/png": "[encoded data removed]",
            "text/plain": [
              "<matplotlib.figure.Figure at 0x7fe0cfd30f60>"
            ]
          },
          "metadata": {
            "tags": []
          }
        }
      ]
    },
    {
      "metadata": {
        "id": "wJsJHz96Imbn",
        "colab_type": "code",
        "outputId": "ff2e5d8d-7233-4c8b-f6d4-883181263016",
        "colab": {
          "base_uri": "https://localhost:8080/",
          "height": 204
        }
      },
      "cell_type": "code",
      "source": [
        "test_imgs_path.head()"
      ],
      "execution_count": 0,
      "outputs": [
        {
          "output_type": "execute_result",
          "data": {
            "text/html": [
              "<div>\n",
              "<style scoped>\n",
              "    .dataframe tbody tr th:only-of-type {\n",
              "        vertical-align: middle;\n",
              "    }\n",
              "\n",
              "    .dataframe tbody tr th {\n",
              "        vertical-align: top;\n",
              "    }\n",
              "\n",
              "    .dataframe thead th {\n",
              "        text-align: right;\n",
              "    }\n",
              "</style>\n",
              "<table border=\"1\" class=\"dataframe\">\n",
              "  <thead>\n",
              "    <tr style=\"text-align: right;\">\n",
              "      <th></th>\n",
              "      <th>Path</th>\n",
              "    </tr>\n",
              "  </thead>\n",
              "  <tbody>\n",
              "    <tr>\n",
              "      <th>0</th>\n",
              "      <td>MURA-v1.1/valid/XR_WRIST/patient11185/study1_p...</td>\n",
              "    </tr>\n",
              "    <tr>\n",
              "      <th>1</th>\n",
              "      <td>MURA-v1.1/valid/XR_WRIST/patient11185/study1_p...</td>\n",
              "    </tr>\n",
              "    <tr>\n",
              "      <th>2</th>\n",
              "      <td>MURA-v1.1/valid/XR_WRIST/patient11185/study1_p...</td>\n",
              "    </tr>\n",
              "    <tr>\n",
              "      <th>3</th>\n",
              "      <td>MURA-v1.1/valid/XR_WRIST/patient11185/study1_p...</td>\n",
              "    </tr>\n",
              "    <tr>\n",
              "      <th>4</th>\n",
              "      <td>MURA-v1.1/valid/XR_WRIST/patient11186/study1_p...</td>\n",
              "    </tr>\n",
              "  </tbody>\n",
              "</table>\n",
              "</div>"
            ],
            "text/plain": [
              "                                                Path\n",
              "0  MURA-v1.1/valid/XR_WRIST/patient11185/study1_p...\n",
              "1  MURA-v1.1/valid/XR_WRIST/patient11185/study1_p...\n",
              "2  MURA-v1.1/valid/XR_WRIST/patient11185/study1_p...\n",
              "3  MURA-v1.1/valid/XR_WRIST/patient11185/study1_p...\n",
              "4  MURA-v1.1/valid/XR_WRIST/patient11186/study1_p..."
            ]
          },
          "metadata": {
            "tags": []
          },
          "execution_count": 24
        }
      ]
    },
    {
      "metadata": {
        "id": "3Hl4Bw4uImCq",
        "colab_type": "code",
        "outputId": "0ecda3e6-3d2a-46e4-fc5b-808a8a6d8b50",
        "colab": {
          "base_uri": "https://localhost:8080/",
          "height": 34
        }
      },
      "cell_type": "code",
      "source": [
        "test_imgs_path.shape[0]"
      ],
      "execution_count": 0,
      "outputs": [
        {
          "output_type": "execute_result",
          "data": {
            "text/plain": [
              "3197"
            ]
          },
          "metadata": {
            "tags": []
          },
          "execution_count": 25
        }
      ]
    },
    {
      "metadata": {
        "id": "9LAzP76OImqP",
        "colab_type": "code",
        "outputId": "82d5506f-6a0c-4628-89ce-f63506d86faf",
        "colab": {
          "base_uri": "https://localhost:8080/",
          "height": 204
        }
      },
      "cell_type": "code",
      "source": [
        "test_labels.head()"
      ],
      "execution_count": 0,
      "outputs": [
        {
          "output_type": "execute_result",
          "data": {
            "text/html": [
              "<div>\n",
              "<style scoped>\n",
              "    .dataframe tbody tr th:only-of-type {\n",
              "        vertical-align: middle;\n",
              "    }\n",
              "\n",
              "    .dataframe tbody tr th {\n",
              "        vertical-align: top;\n",
              "    }\n",
              "\n",
              "    .dataframe thead th {\n",
              "        text-align: right;\n",
              "    }\n",
              "</style>\n",
              "<table border=\"1\" class=\"dataframe\">\n",
              "  <thead>\n",
              "    <tr style=\"text-align: right;\">\n",
              "      <th></th>\n",
              "      <th>Path</th>\n",
              "      <th>Label</th>\n",
              "    </tr>\n",
              "  </thead>\n",
              "  <tbody>\n",
              "    <tr>\n",
              "      <th>0</th>\n",
              "      <td>MURA-v1.1/valid/XR_WRIST/patient11185/study1_p...</td>\n",
              "      <td>1</td>\n",
              "    </tr>\n",
              "    <tr>\n",
              "      <th>1</th>\n",
              "      <td>MURA-v1.1/valid/XR_WRIST/patient11186/study1_p...</td>\n",
              "      <td>1</td>\n",
              "    </tr>\n",
              "    <tr>\n",
              "      <th>2</th>\n",
              "      <td>MURA-v1.1/valid/XR_WRIST/patient11186/study2_p...</td>\n",
              "      <td>1</td>\n",
              "    </tr>\n",
              "    <tr>\n",
              "      <th>3</th>\n",
              "      <td>MURA-v1.1/valid/XR_WRIST/patient11186/study3_p...</td>\n",
              "      <td>1</td>\n",
              "    </tr>\n",
              "    <tr>\n",
              "      <th>4</th>\n",
              "      <td>MURA-v1.1/valid/XR_WRIST/patient11187/study1_p...</td>\n",
              "      <td>1</td>\n",
              "    </tr>\n",
              "  </tbody>\n",
              "</table>\n",
              "</div>"
            ],
            "text/plain": [
              "                                                Path  Label\n",
              "0  MURA-v1.1/valid/XR_WRIST/patient11185/study1_p...      1\n",
              "1  MURA-v1.1/valid/XR_WRIST/patient11186/study1_p...      1\n",
              "2  MURA-v1.1/valid/XR_WRIST/patient11186/study2_p...      1\n",
              "3  MURA-v1.1/valid/XR_WRIST/patient11186/study3_p...      1\n",
              "4  MURA-v1.1/valid/XR_WRIST/patient11187/study1_p...      1"
            ]
          },
          "metadata": {
            "tags": []
          },
          "execution_count": 26
        }
      ]
    },
    {
      "metadata": {
        "id": "ZBcmL8VuI7m7",
        "colab_type": "code",
        "outputId": "c7e5cc73-c1d1-4ea5-8c1f-3b77fca02eb3",
        "colab": {
          "base_uri": "https://localhost:8080/",
          "height": 68
        }
      },
      "cell_type": "code",
      "source": [
        "test_labels['Label'].value_counts()"
      ],
      "execution_count": 0,
      "outputs": [
        {
          "output_type": "execute_result",
          "data": {
            "text/plain": [
              "0    661\n",
              "1    538\n",
              "Name: Label, dtype: int64"
            ]
          },
          "metadata": {
            "tags": []
          },
          "execution_count": 27
        }
      ]
    },
    {
      "metadata": {
        "id": "tmaA74_MJDqo",
        "colab_type": "code",
        "outputId": "8cb7f6bf-f54a-4e3f-93b1-81f2c8cbe566",
        "colab": {
          "base_uri": "https://localhost:8080/",
          "height": 412
        }
      },
      "cell_type": "code",
      "source": [
        "sns.countplot(test_labels['Label'])"
      ],
      "execution_count": 0,
      "outputs": [
        {
          "output_type": "stream",
          "text": [
            "/usr/local/lib/python3.6/dist-packages/seaborn/categorical.py:1428: FutureWarning: remove_na is deprecated and is a private function. Do not use.\n",
            "  stat_data = remove_na(group_data)\n"
          ],
          "name": "stderr"
        },
        {
          "output_type": "execute_result",
          "data": {
            "text/plain": [
              "<matplotlib.axes._subplots.AxesSubplot at 0x7fe084de8668>"
            ]
          },
          "metadata": {
            "tags": []
          },
          "execution_count": 28
        },
        {
          "output_type": "display_data",
          "data": {
            "image/png": "[encoded data removed]",
            "text/plain": [
              "<matplotlib.figure.Figure at 0x7fe0876604a8>"
            ]
          },
          "metadata": {
            "tags": []
          }
        }
      ]
    },
    {
      "metadata": {
        "id": "W7sjr3KQIe1X",
        "colab_type": "code",
        "colab": {}
      },
      "cell_type": "code",
      "source": [
        "test_labels['Studies']=test_labels['Path'].apply(lambda x: str(x.split('/')[2])[3:])"
      ],
      "execution_count": 0,
      "outputs": []
    },
    {
      "metadata": {
        "id": "yg4iQHJBJDT0",
        "colab_type": "code",
        "outputId": "a69717c2-fc99-4cfc-8701-5c07e42325b4",
        "colab": {
          "base_uri": "https://localhost:8080/",
          "height": 513
        }
      },
      "cell_type": "code",
      "source": [
        "plt.figure(figsize=(10,7))\n",
        "sns.countplot(x='Studies',hue='Label',data=test_labels)"
      ],
      "execution_count": 0,
      "outputs": [
        {
          "output_type": "execute_result",
          "data": {
            "text/plain": [
              "<matplotlib.figure.Figure at 0x7fe084de89e8>"
            ]
          },
          "metadata": {
            "tags": []
          },
          "execution_count": 30
        },
        {
          "output_type": "stream",
          "text": [
            "/usr/local/lib/python3.6/dist-packages/seaborn/categorical.py:1468: FutureWarning: remove_na is deprecated and is a private function. Do not use.\n",
            "  stat_data = remove_na(group_data[hue_mask])\n"
          ],
          "name": "stderr"
        },
        {
          "output_type": "execute_result",
          "data": {
            "text/plain": [
              "<matplotlib.axes._subplots.AxesSubplot at 0x7fe084c24fd0>"
            ]
          },
          "metadata": {
            "tags": []
          },
          "execution_count": 30
        },
        {
          "output_type": "display_data",
          "data": {
            "image/png": "[encoded data removed]",
            "text/plain": [
              "<matplotlib.figure.Figure at 0x7fe084de89e8>"
            ]
          },
          "metadata": {
            "tags": []
          }
        }
      ]
    },
    {
      "metadata": {
        "id": "5dXiUKvOMtGE",
        "colab_type": "text"
      },
      "cell_type": "markdown",
      "source": [
        "# **Load Data**"
      ]
    },
    {
      "metadata": {
        "id": "za83ujW9z7My",
        "colab_type": "code",
        "colab": {}
      },
      "cell_type": "code",
      "source": [
        "def get_study_level_data(study_type):\n",
        "    \"\"\"\n",
        "    Returns a dict, with keys 'train' and 'valid' and respective values as study level dataframes, \n",
        "    these dataframes contain three columns 'Path', 'Count', 'Label'\n",
        "    Args:\n",
        "        study_type (string): one of the seven study type folder names in 'train/valid/test' dataset \n",
        "    \"\"\"\n",
        "    data_cat = ['train', 'valid']\n",
        "    study_data = {}\n",
        "    study_label = {'positive': 1, 'negative': 0}\n",
        "    for phase in data_cat:\n",
        "        BASE_DIR = '/content/drive/My Drive/MURA-v1.1/%s/%s/' % (phase , study_type)\n",
        "        patients = list(os.walk(BASE_DIR))[0][1] # list of patient folder names\n",
        "        study_data[phase] = pd.DataFrame(columns=['Path', 'Count', 'Label'])\n",
        "        i = 0\n",
        "        for patient in tqdm(patients): # for each patient folder\n",
        "            for study in os.listdir(BASE_DIR + patient): # for each study in that patient folder\n",
        "                label = study_label[study.split('_')[1]] # get label 0 or 1\n",
        "                path = BASE_DIR + patient + '/' + study + '/' # path to this study\n",
        "                study_data[phase].loc[i] = [path, len(os.listdir(path)), label] # add new row\n",
        "                i+=1\n",
        "    return study_data"
      ],
      "execution_count": 0,
      "outputs": []
    },
    {
      "metadata": {
        "id": "muNvxGtQgk6y",
        "colab_type": "code",
        "colab": {}
      },
      "cell_type": "code",
      "source": [
        "def load_training_data(size_x,size_y):\n",
        "  images_train=[]\n",
        "  labels_train=[]\n",
        "  for idx in tqdm(range(study_data['train'].shape[0])):\n",
        "    study_path = study_data['train'].iloc[idx, 0]\n",
        "    count = study_data['train'].iloc[idx, 1]\n",
        "    for i in range(count):\n",
        "        img=Image.open(study_path + 'image%s.png' % (i+1))\n",
        "        re_img=img.resize((size_x,size_y))\n",
        "        re_img=np.array(re_img)\n",
        "#         re_img =preprocess_input(re_img)\n",
        "        if len(re_img.shape)< 3:\n",
        "          re_img=cv.cvtColor(re_img,cv.COLOR_GRAY2RGB)\n",
        "        images_train.append( re_img)\n",
        "        labelimg=study_data['train'].iloc[idx, 2]    \n",
        "        labelimg=np.array(labelimg)\n",
        "        labels_train.append(labelimg)\n",
        "  images_train=np.array(images_train)\n",
        "  labels_train=np.array(labels_train)\n",
        "  return images_train,labels_train"
      ],
      "execution_count": 0,
      "outputs": []
    },
    {
      "metadata": {
        "id": "YGjyy4tGs5i3",
        "colab_type": "code",
        "colab": {}
      },
      "cell_type": "code",
      "source": [
        "def load_test_data(size_x,size_y):\n",
        "  images_test=[]\n",
        "  labels_test=[]\n",
        "  for idx in tqdm(range(study_data['valid'].shape[0])):\n",
        "    study_path = study_data['valid'].iloc[idx, 0]\n",
        "    count = study_data['valid'].iloc[idx, 1]\n",
        "    for i in range(count):\n",
        "        img=Image.open(study_path + 'image%s.png' % (i+1))\n",
        "        re_img=img.resize((size_x,size_y))\n",
        "        re_img=np.array(re_img)\n",
        "#         re_img = preprocess_input(re_img)\n",
        "        if len(re_img.shape)< 3:\n",
        "          re_img=cv.cvtColor(re_img,cv.COLOR_GRAY2RGB)\n",
        "        images_test.append(re_img)\n",
        "        labelimg=study_data['valid'].iloc[idx, 2]\n",
        "        labelimg=np.array(labelimg)\n",
        "        labels_test.append(labelimg)\n",
        "  images_test=np.array(images_test)\n",
        "  labels_test=np.array(labels_test) \n",
        "  return images_test,labels_test"
      ],
      "execution_count": 0,
      "outputs": []
    },
    {
      "metadata": {
        "id": "6ux7l-2L0Gqt",
        "colab_type": "code",
        "colab": {}
      },
      "cell_type": "code",
      "source": [
        "study_data=get_study_level_data('XR_HUMERUS')"
      ],
      "execution_count": 0,
      "outputs": []
    },
    {
      "metadata": {
        "id": "qKwL-A4Nimxa",
        "colab_type": "code",
        "colab": {}
      },
      "cell_type": "code",
      "source": [
        "study_data"
      ],
      "execution_count": 0,
      "outputs": []
    },
    {
      "metadata": {
        "id": "3uz81fcE3_-Y",
        "colab_type": "code",
        "colab": {}
      },
      "cell_type": "code",
      "source": [
        "images_train,labels_train=load_training_data(224,224)"
      ],
      "execution_count": 0,
      "outputs": []
    },
    {
      "metadata": {
        "id": "diBcemG4wQze",
        "colab_type": "code",
        "colab": {}
      },
      "cell_type": "code",
      "source": [
        "images_test,labels_test =load_test_data(224,224)"
      ],
      "execution_count": 0,
      "outputs": []
    },
    {
      "metadata": {
        "id": "k9DJfT7gkXbV",
        "colab_type": "code",
        "colab": {}
      },
      "cell_type": "code",
      "source": [
        "images_train,labels_train=shuffle(images_train,labels_train,random_state=4)"
      ],
      "execution_count": 0,
      "outputs": []
    },
    {
      "metadata": {
        "id": "h685Fzfr8hgC",
        "colab_type": "code",
        "colab": {}
      },
      "cell_type": "code",
      "source": [
        "labels_train_cat = np_utils.to_categorical(labels_train, 2)\n",
        "labels_test_cat = np_utils.to_categorical(labels_test, 2)"
      ],
      "execution_count": 0,
      "outputs": []
    },
    {
      "metadata": {
        "id": "4vi6OmJkVLST",
        "colab_type": "text"
      },
      "cell_type": "markdown",
      "source": [
        "# **Data Augmentation**"
      ]
    },
    {
      "metadata": {
        "id": "NoXsOytdVOkC",
        "colab_type": "code",
        "colab": {}
      },
      "cell_type": "code",
      "source": [
        "train_datagen=ImageDataGenerator( featurewise_center=True,featurewise_std_normalization=True,rotation_range=20,width_shift_range=0.2,height_shift_range=0.2,\n",
        "                                    horizontal_flip=True,validation_split=0.2)"
      ],
      "execution_count": 0,
      "outputs": []
    },
    {
      "metadata": {
        "id": "5OrSF_heGenG",
        "colab_type": "code",
        "colab": {}
      },
      "cell_type": "code",
      "source": [
        "def fit_Augmentaion(model):\n",
        "  model.fit_generator(train_datagen.flow(x=images_train,y=labels_train_cat,batch_size=32),epochs=5,steps_per_epoch=(images_train.shape[0] // 32))"
      ],
      "execution_count": 0,
      "outputs": []
    },
    {
      "metadata": {
        "id": "Zr3_E4tb2Vjy",
        "colab_type": "text"
      },
      "cell_type": "markdown",
      "source": [
        "# **Functions**"
      ]
    },
    {
      "metadata": {
        "id": "zqW2YSinxL0x",
        "colab_type": "code",
        "colab": {}
      },
      "cell_type": "code",
      "source": [
        "def compile(model):\n",
        "  model.compile(optimizers.Adam(lr=0.0001),loss='categorical_crossentropy',metrics=['accuracy'])"
      ],
      "execution_count": 0,
      "outputs": []
    },
    {
      "metadata": {
        "id": "pitZVmDlyR08",
        "colab_type": "code",
        "colab": {}
      },
      "cell_type": "code",
      "source": [
        "def fit(model):\n",
        "  model.fit(x=images_train,y=labels_train_cat,batch_size=32,epochs=5,validation_split=0.2)"
      ],
      "execution_count": 0,
      "outputs": []
    },
    {
      "metadata": {
        "id": "gQaXhXrW3XKM",
        "colab_type": "code",
        "colab": {}
      },
      "cell_type": "code",
      "source": [
        "def evaluate(model):\n",
        "  test_eval = model.evaluate(x=images_test, y=labels_test_cat, verbose=0)\n",
        "  print('Test loss:', test_eval[0])\n",
        "  print('Test accuracy:', test_eval[1])"
      ],
      "execution_count": 0,
      "outputs": []
    },
    {
      "metadata": {
        "id": "7GcFzmtoxVwy",
        "colab_type": "code",
        "colab": {}
      },
      "cell_type": "code",
      "source": [
        "def predict(model):\n",
        "  predictions=model.predict(images_test,verbose=1)\n",
        "  return predictions"
      ],
      "execution_count": 0,
      "outputs": []
    },
    {
      "metadata": {
        "id": "L2oogCAvH1k6",
        "colab_type": "code",
        "colab": {}
      },
      "cell_type": "code",
      "source": [
        "def plot_confusion_matrix(prediction):\n",
        "  print(\"classification_report :  \\n \", classification_report(np.argmax(labels_test_cat,axis=1),np.argmax(prediction,axis=1)))\n",
        "  accuracy = accuracy_score(np.argmax(labels_test_cat,axis=1), np.argmax(prediction,axis=1))\n",
        "  print(f'accuracy: {accuracy}')\n",
        "  cm = pd.DataFrame(confusion_matrix(np.argmax(labels_test_cat,axis=1), np.argmax(prediction,axis=1)))\n",
        "  sb.heatmap(cm,annot=True)\n",
        "  plt.show()"
      ],
      "execution_count": 0,
      "outputs": []
    },
    {
      "metadata": {
        "id": "Hxq1Ow01GHbC",
        "colab_type": "text"
      },
      "cell_type": "markdown",
      "source": [
        "# **DenseNet**"
      ]
    },
    {
      "metadata": {
        "id": "eii28PkuK2dB",
        "colab_type": "code",
        "colab": {}
      },
      "cell_type": "code",
      "source": [
        "def DenseNetModel():\n",
        "  dense = densenet.DenseNet169()\n",
        "  dense.summary()\n",
        "  x = dense.layers[-2].output\n",
        "  predictions = Dense(2,activation = 'softmax')(x)\n",
        "  model = Model(inputs=dense.input, outputs=predictions)\n",
        "  model.summary()\n",
        "  compile(model)\n",
        "  return model"
      ],
      "execution_count": 0,
      "outputs": []
    },
    {
      "metadata": {
        "id": "kkJN4eAH3gRy",
        "colab_type": "text"
      },
      "cell_type": "markdown",
      "source": [
        "Model"
      ]
    },
    {
      "metadata": {
        "id": "wcg2C1CTl92S",
        "colab_type": "code",
        "colab": {}
      },
      "cell_type": "code",
      "source": [
        "dense_model=DenseNetModel()"
      ],
      "execution_count": 0,
      "outputs": []
    },
    {
      "metadata": {
        "id": "mbEQnmIb3ijn",
        "colab_type": "text"
      },
      "cell_type": "markdown",
      "source": [
        "Train"
      ]
    },
    {
      "metadata": {
        "id": "0EEppYfj4Y7E",
        "colab_type": "code",
        "colab": {}
      },
      "cell_type": "code",
      "source": [
        "fit(dense_model)"
      ],
      "execution_count": 0,
      "outputs": []
    },
    {
      "metadata": {
        "id": "uDKY-GuZG21h",
        "colab_type": "code",
        "colab": {}
      },
      "cell_type": "code",
      "source": [
        "fit_Augmentaion(dense_model)"
      ],
      "execution_count": 0,
      "outputs": []
    },
    {
      "metadata": {
        "id": "TqWtK9Y73kXL",
        "colab_type": "text"
      },
      "cell_type": "markdown",
      "source": [
        "Test"
      ]
    },
    {
      "metadata": {
        "id": "JaBjE7-757WB",
        "colab_type": "code",
        "colab": {}
      },
      "cell_type": "code",
      "source": [
        "evaluate(dense_model)"
      ],
      "execution_count": 0,
      "outputs": []
    },
    {
      "metadata": {
        "id": "7HvNITLnGHzr",
        "colab_type": "text"
      },
      "cell_type": "markdown",
      "source": [
        "Predict"
      ]
    },
    {
      "metadata": {
        "id": "fC8xD3-85-Bo",
        "colab_type": "code",
        "colab": {}
      },
      "cell_type": "code",
      "source": [
        "dense_predictions=predict(dense_model)\n",
        "print(dense_predictions[250])\n",
        "print(labels_test_cat[250])"
      ],
      "execution_count": 0,
      "outputs": []
    },
    {
      "metadata": {
        "id": "WZN9jPAsIiZh",
        "colab_type": "text"
      },
      "cell_type": "markdown",
      "source": [
        "Confusion Matrix"
      ]
    },
    {
      "metadata": {
        "id": "oxwmM3ofImO0",
        "colab_type": "code",
        "colab": {}
      },
      "cell_type": "code",
      "source": [
        "plot_confusion_matrix(dense_predictions)"
      ],
      "execution_count": 0,
      "outputs": []
    },
    {
      "metadata": {
        "id": "OCfBYYJ-GT10",
        "colab_type": "text"
      },
      "cell_type": "markdown",
      "source": [
        "# **MobileNet**"
      ]
    },
    {
      "metadata": {
        "id": "qKbtTmjjLpZb",
        "colab_type": "code",
        "colab": {}
      },
      "cell_type": "code",
      "source": [
        "def MobileNetModel():\n",
        "  mobile = mobilenet.MobileNet()\n",
        "  mobile.summary()\n",
        "  x = mobile.layers[-6].output\n",
        "  predictions = Dense(2,activation = 'softmax')(x)\n",
        "  model = Model(inputs=mobile.input, outputs=predictions)\n",
        "  model.summary()\n",
        "  compile(model)\n",
        "  return model"
      ],
      "execution_count": 0,
      "outputs": []
    },
    {
      "metadata": {
        "id": "S9sR9g1w6Ctc",
        "colab_type": "text"
      },
      "cell_type": "markdown",
      "source": [
        "Model"
      ]
    },
    {
      "metadata": {
        "id": "iuQKiFZaMCGF",
        "colab_type": "code",
        "colab": {}
      },
      "cell_type": "code",
      "source": [
        " mobile_model=MobileNetModel()"
      ],
      "execution_count": 0,
      "outputs": []
    },
    {
      "metadata": {
        "id": "lIyQSrjo6ETW",
        "colab_type": "text"
      },
      "cell_type": "markdown",
      "source": [
        "Train"
      ]
    },
    {
      "metadata": {
        "id": "RoNLzYK_wrxV",
        "colab_type": "code",
        "colab": {}
      },
      "cell_type": "code",
      "source": [
        "fit(mobile_model)"
      ],
      "execution_count": 0,
      "outputs": []
    },
    {
      "metadata": {
        "id": "gCH4GT74LDBQ",
        "colab_type": "code",
        "colab": {}
      },
      "cell_type": "code",
      "source": [
        "fit_Augmentaion(mobile_model)"
      ],
      "execution_count": 0,
      "outputs": []
    },
    {
      "metadata": {
        "id": "2zna8la26FrC",
        "colab_type": "text"
      },
      "cell_type": "markdown",
      "source": [
        "Test"
      ]
    },
    {
      "metadata": {
        "id": "JIZAd_HVx3hY",
        "colab_type": "code",
        "colab": {}
      },
      "cell_type": "code",
      "source": [
        "evaluate(mobile_model)"
      ],
      "execution_count": 0,
      "outputs": []
    },
    {
      "metadata": {
        "id": "f2KZHlU_I4ia",
        "colab_type": "text"
      },
      "cell_type": "markdown",
      "source": [
        "Predict"
      ]
    },
    {
      "metadata": {
        "id": "0OGVE4fHS9nv",
        "colab_type": "code",
        "colab": {}
      },
      "cell_type": "code",
      "source": [
        "mobile_predictions=predict(mobile_model)\n",
        "print(mobile_predictions[250])\n",
        "print(labels_test_cat[250])"
      ],
      "execution_count": 0,
      "outputs": []
    },
    {
      "metadata": {
        "id": "zBf0klEpI7Fo",
        "colab_type": "text"
      },
      "cell_type": "markdown",
      "source": [
        "Confusion Matrix"
      ]
    },
    {
      "metadata": {
        "id": "Z_Wf-xXqI_2W",
        "colab_type": "code",
        "colab": {}
      },
      "cell_type": "code",
      "source": [
        "plot_confusion_matrix(mobile_predictions)"
      ],
      "execution_count": 0,
      "outputs": []
    },
    {
      "metadata": {
        "id": "QII-PIegVAEP",
        "colab_type": "text"
      },
      "cell_type": "markdown",
      "source": [
        "# **VGG**"
      ]
    },
    {
      "metadata": {
        "id": "F33rrxMiVDIw",
        "colab_type": "text"
      },
      "cell_type": "markdown",
      "source": [
        "Model"
      ]
    },
    {
      "metadata": {
        "id": "KGn90IYrVvhh",
        "colab_type": "code",
        "colab": {}
      },
      "cell_type": "code",
      "source": [
        "def VGG():\n",
        "  vgg =vgg16.VGG16()\n",
        "  vgg.summary()\n",
        "  x = vgg.layers[-4].output\n",
        "  predictions = Dense(2,activation = 'softmax')(x)\n",
        "  model = Model(inputs=vgg.input, outputs=predictions)\n",
        "  model.summary()\n",
        "  compile(model)\n",
        "  return model"
      ],
      "execution_count": 0,
      "outputs": []
    },
    {
      "metadata": {
        "id": "jDJyGY9fV7JE",
        "colab_type": "code",
        "colab": {}
      },
      "cell_type": "code",
      "source": [
        "vgg_model=VGG()"
      ],
      "execution_count": 0,
      "outputs": []
    },
    {
      "metadata": {
        "id": "i-tl7qQ1XkXl",
        "colab_type": "text"
      },
      "cell_type": "markdown",
      "source": [
        "Train"
      ]
    },
    {
      "metadata": {
        "id": "_nROWqGOXuyH",
        "colab_type": "code",
        "colab": {}
      },
      "cell_type": "code",
      "source": [
        "fit(vgg_model)"
      ],
      "execution_count": 0,
      "outputs": []
    },
    {
      "metadata": {
        "id": "J7i0dN71SYmx",
        "colab_type": "code",
        "colab": {}
      },
      "cell_type": "code",
      "source": [
        "fit_Augmentaion(vgg_model)"
      ],
      "execution_count": 0,
      "outputs": []
    },
    {
      "metadata": {
        "id": "gzKrh7Mva6a0",
        "colab_type": "text"
      },
      "cell_type": "markdown",
      "source": [
        "Test"
      ]
    },
    {
      "metadata": {
        "id": "C06vc21YbAno",
        "colab_type": "code",
        "colab": {}
      },
      "cell_type": "code",
      "source": [
        "evaluate(vgg_model)"
      ],
      "execution_count": 0,
      "outputs": []
    },
    {
      "metadata": {
        "id": "44i7FP8LbJDX",
        "colab_type": "text"
      },
      "cell_type": "markdown",
      "source": [
        "Predict"
      ]
    },
    {
      "metadata": {
        "id": "2BOdniOybQYn",
        "colab_type": "code",
        "colab": {}
      },
      "cell_type": "code",
      "source": [
        "vgg_predictions=predict(vgg_model)\n",
        "print(vgg_predictions[250])\n",
        "print(labels_test_cat[250])"
      ],
      "execution_count": 0,
      "outputs": []
    },
    {
      "metadata": {
        "id": "nPhNLZPKbq7r",
        "colab_type": "text"
      },
      "cell_type": "markdown",
      "source": [
        "Confusion Matrix"
      ]
    },
    {
      "metadata": {
        "id": "3Rz9h6WJbx2T",
        "colab_type": "code",
        "colab": {}
      },
      "cell_type": "code",
      "source": [
        "plot_confusion_matrix(vgg_predictions)"
      ],
      "execution_count": 0,
      "outputs": []
    },
    {
      "metadata": {
        "id": "ULZnYfxfccJU",
        "colab_type": "text"
      },
      "cell_type": "markdown",
      "source": [
        "# **Inception**"
      ]
    },
    {
      "metadata": {
        "id": "oBwIASWhciWS",
        "colab_type": "text"
      },
      "cell_type": "markdown",
      "source": [
        "Model"
      ]
    },
    {
      "metadata": {
        "id": "BZ81FDw6ckYg",
        "colab_type": "code",
        "colab": {}
      },
      "cell_type": "code",
      "source": [
        "def Inception():\n",
        "  inception = inception_v3.InceptionV3()\n",
        "  inception.summary()\n",
        "  x = inception.layers[-2].output\n",
        "  predictions = Dense(2,activation = 'softmax')(x)\n",
        "  model = Model(inputs=inception.input, outputs=predictions)\n",
        "  model.summary()\n",
        "  compile(model)\n",
        "  return model"
      ],
      "execution_count": 0,
      "outputs": []
    },
    {
      "metadata": {
        "id": "ppHBH7kydSI6",
        "colab_type": "code",
        "colab": {}
      },
      "cell_type": "code",
      "source": [
        "inception_model=Inception()"
      ],
      "execution_count": 0,
      "outputs": []
    },
    {
      "metadata": {
        "colab_type": "text",
        "id": "IqS7vCtgeiOz"
      },
      "cell_type": "markdown",
      "source": [
        "Train"
      ]
    },
    {
      "metadata": {
        "colab_type": "code",
        "id": "8BeKiRITeiO4",
        "colab": {}
      },
      "cell_type": "code",
      "source": [
        "fit(inception_model)"
      ],
      "execution_count": 0,
      "outputs": []
    },
    {
      "metadata": {
        "id": "nKf_2ObXSn3F",
        "colab_type": "code",
        "colab": {}
      },
      "cell_type": "code",
      "source": [
        "fit_Augmentaion(inception_model)"
      ],
      "execution_count": 0,
      "outputs": []
    },
    {
      "metadata": {
        "colab_type": "text",
        "id": "GF0ZK0FLeiPN"
      },
      "cell_type": "markdown",
      "source": [
        "Test"
      ]
    },
    {
      "metadata": {
        "colab_type": "code",
        "id": "miTHOBBmeiPR",
        "colab": {}
      },
      "cell_type": "code",
      "source": [
        "evaluate(inception_model)"
      ],
      "execution_count": 0,
      "outputs": []
    },
    {
      "metadata": {
        "colab_type": "text",
        "id": "PHeQpmI0eiPo"
      },
      "cell_type": "markdown",
      "source": [
        "Predict"
      ]
    },
    {
      "metadata": {
        "colab_type": "code",
        "id": "-7mWgr-0eiPp",
        "colab": {}
      },
      "cell_type": "code",
      "source": [
        "inception_predictions=predict(inception_model)\n",
        "print(inception_predictions[250])\n",
        "print(labels_test_cat[250])"
      ],
      "execution_count": 0,
      "outputs": []
    },
    {
      "metadata": {
        "colab_type": "text",
        "id": "EceNfDCreiPx"
      },
      "cell_type": "markdown",
      "source": [
        "Confusion Matrix"
      ]
    },
    {
      "metadata": {
        "colab_type": "code",
        "id": "ckQ9Aoi3eiPy",
        "colab": {}
      },
      "cell_type": "code",
      "source": [
        "plot_confusion_matrix(inception_predictions)"
      ],
      "execution_count": 0,
      "outputs": []
    },
    {
      "metadata": {
        "id": "iSQmlTHSzJ-w",
        "colab_type": "text"
      },
      "cell_type": "markdown",
      "source": [
        "# **Voting**"
      ]
    },
    {
      "metadata": {
        "id": "ken-WPpc90gG",
        "colab_type": "code",
        "colab": {}
      },
      "cell_type": "code",
      "source": [
        "def vote(predictions1,predictions2,predictions3):\n",
        "  test_size=predictions1.shape[0]\n",
        "  predictions=np.empty([test_size,2])\n",
        "  for i in range(test_size):\n",
        "    votes=np.argmax(predictions1[i])+np.argmax(predictions2[i])+np.argmax(predictions3[i])\n",
        "    if(votes<=1):\n",
        "      predictions[i]=[1,0]\n",
        "    else:\n",
        "      predictions[i]=[0,1]\n",
        "  return predictions"
      ],
      "execution_count": 0,
      "outputs": []
    },
    {
      "metadata": {
        "id": "I9DPSdtL4fQT",
        "colab_type": "code",
        "colab": {}
      },
      "cell_type": "code",
      "source": [
        "predictions=vote(dense_predictions,pred_mobile_dense,pred_mobile_dense_vgg)"
      ],
      "execution_count": 0,
      "outputs": []
    },
    {
      "metadata": {
        "id": "EW3aYj9o7Va8",
        "colab_type": "code",
        "colab": {}
      },
      "cell_type": "code",
      "source": [
        "plot_confusion_matrix(predictions) "
      ],
      "execution_count": 0,
      "outputs": []
    },
    {
      "metadata": {
        "id": "28bw784q41Ws",
        "colab_type": "text"
      },
      "cell_type": "markdown",
      "source": [
        "#**Feature Extraction **\n"
      ]
    },
    {
      "metadata": {
        "id": "FKnD8H6d77XI",
        "colab_type": "code",
        "colab": {}
      },
      "cell_type": "code",
      "source": [
        "def mobile_dense():\n",
        "  mobile = mobilenet.MobileNet(include_top=False,pooling='avg')\n",
        "  dense=densenet.DenseNet169(include_top=False,pooling='avg')\n",
        "  conc = concatenate([mobile.output, dense.output])\n",
        "  predictions = Dense(2,activation = 'softmax')(conc)\n",
        "  model = Model(inputs=[mobile.input,dense.input], outputs=predictions)\n",
        "  model.summary()\n",
        "  return model"
      ],
      "execution_count": 0,
      "outputs": []
    },
    {
      "metadata": {
        "id": "D6fNaaRy7xW9",
        "colab_type": "code",
        "colab": {}
      },
      "cell_type": "code",
      "source": [
        "mobile_dense=mobile_dense()"
      ],
      "execution_count": 0,
      "outputs": []
    },
    {
      "metadata": {
        "id": "Z1wBrSMV_kXb",
        "colab_type": "code",
        "colab": {}
      },
      "cell_type": "code",
      "source": [
        "mobile_dense.compile(optimizers.Adam(lr=0.0001),loss='categorical_crossentropy',metrics=['accuracy'])"
      ],
      "execution_count": 0,
      "outputs": []
    },
    {
      "metadata": {
        "id": "LbDtDi57BSda",
        "colab_type": "code",
        "colab": {}
      },
      "cell_type": "code",
      "source": [
        "mobile_dense.fit(x=[images_train,images_train],y=labels_train_cat,batch_size=10,epochs=5,validation_split=0.2)"
      ],
      "execution_count": 0,
      "outputs": []
    },
    {
      "metadata": {
        "id": "Mq49nc8CIksm",
        "colab_type": "code",
        "colab": {}
      },
      "cell_type": "code",
      "source": [
        "eval_mobile_dense = mobile_dense.evaluate(x=[images_test,images_test], y=labels_test_cat, verbose=0)\n",
        "print('Test loss:', eval_mobile_dense[0])\n",
        "print('Test accuracy:', eval_mobile_dense[1])"
      ],
      "execution_count": 0,
      "outputs": []
    },
    {
      "metadata": {
        "id": "txnR7j1igRvG",
        "colab_type": "code",
        "colab": {}
      },
      "cell_type": "code",
      "source": [
        "pred_mobile_dense=mobile_dense.predict([images_test,images_test])"
      ],
      "execution_count": 0,
      "outputs": []
    },
    {
      "metadata": {
        "id": "zE_lzkIKzDmW",
        "colab_type": "code",
        "colab": {}
      },
      "cell_type": "code",
      "source": [
        "plot_confusion_matrix(pred_mobile_dense)"
      ],
      "execution_count": 0,
      "outputs": []
    },
    {
      "metadata": {
        "id": "Jg42xMDJA8HF",
        "colab_type": "code",
        "colab": {}
      },
      "cell_type": "code",
      "source": [
        "def mobile_dense_vgg():\n",
        "  mobile = mobilenet.MobileNet(include_top=False,pooling='avg')\n",
        "  dense=densenet.DenseNet169(include_top=False,pooling='avg')\n",
        "  vgg =vgg16.VGG16()\n",
        "  x = vgg.layers[-4].output\n",
        "  conc1 = concatenate([mobile.output, dense.output])\n",
        "  conc2 = concatenate([conc1 , x])\n",
        "  predictions = Dense(2,activation = 'softmax')(conc2)\n",
        "  model = Model(inputs=[mobile.input,dense.input,vgg.input], outputs=predictions)\n",
        "  model.summary()\n",
        "  return model"
      ],
      "execution_count": 0,
      "outputs": []
    },
    {
      "metadata": {
        "id": "gIEbbfnIDPjy",
        "colab_type": "code",
        "colab": {}
      },
      "cell_type": "code",
      "source": [
        "mobile_dense_vgg = mobile_dense_vgg()"
      ],
      "execution_count": 0,
      "outputs": []
    },
    {
      "metadata": {
        "id": "tn9pj8J7N90C",
        "colab_type": "code",
        "colab": {}
      },
      "cell_type": "code",
      "source": [
        "mobile_dense_vgg.compile(optimizers.Adam(lr=0.0001),loss='categorical_crossentropy',metrics=['accuracy'])"
      ],
      "execution_count": 0,
      "outputs": []
    },
    {
      "metadata": {
        "id": "D2hliUcPEhmp",
        "colab_type": "code",
        "colab": {}
      },
      "cell_type": "code",
      "source": [
        "mobile_dense_vgg.fit(x=[images_train,images_train,images_train],y=labels_train_cat,batch_size=10,epochs=5,validation_split=0.2)"
      ],
      "execution_count": 0,
      "outputs": []
    },
    {
      "metadata": {
        "id": "d03PTjmDR180",
        "colab_type": "code",
        "colab": {}
      },
      "cell_type": "code",
      "source": [
        "eval_mobile_dense_vgg = mobile_dense_vgg.evaluate(x=[images_test,images_test,images_test], y=labels_test_cat, verbose=0)\n",
        "print('Test loss:', eval_mobile_dense_vgg[0])\n",
        "print('Test accuracy:', eval_mobile_dense_vgg[1])"
      ],
      "execution_count": 0,
      "outputs": []
    },
    {
      "metadata": {
        "id": "WDps_iT0TIKD",
        "colab_type": "code",
        "colab": {}
      },
      "cell_type": "code",
      "source": [
        "pred_mobile_dense_vgg=mobile_dense_vgg.predict([images_test,images_test,images_test])"
      ],
      "execution_count": 0,
      "outputs": []
    },
    {
      "metadata": {
        "id": "jIpSXOuUzVJR",
        "colab_type": "code",
        "colab": {}
      },
      "cell_type": "code",
      "source": [
        "plot_confusion_matrix(pred_mobile_dense_vgg)"
      ],
      "execution_count": 0,
      "outputs": []
    }
  ]
}